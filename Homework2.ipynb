{
  "nbformat": 4,
  "nbformat_minor": 0,
  "metadata": {
    "colab": {
      "provenance": [],
      "authorship_tag": "ABX9TyPzGzPxAyFwW5cxn1KFKydl",
      "include_colab_link": true
    },
    "kernelspec": {
      "name": "python3",
      "display_name": "Python 3"
    },
    "language_info": {
      "name": "python"
    }
  },
  "cells": [
    {
      "cell_type": "markdown",
      "metadata": {
        "id": "view-in-github",
        "colab_type": "text"
      },
      "source": [
        "<a href=\"https://colab.research.google.com/github/Thapanee633020670-2/python_dataviz2023/blob/main/Homework2.ipynb\" target=\"_parent\"><img src=\"https://colab.research.google.com/assets/colab-badge.svg\" alt=\"Open In Colab\"/></a>"
      ]
    },
    {
      "cell_type": "markdown",
      "source": [
        "#HW2 สร้างโลโก้พรรคก้าวไกล"
      ],
      "metadata": {
        "id": "3OwdhSggg9c6"
      }
    },
    {
      "cell_type": "markdown",
      "source": [],
      "metadata": {
        "id": "R6tYEtBsg8X-"
      }
    },
    {
      "cell_type": "code",
      "execution_count": 36,
      "metadata": {
        "colab": {
          "base_uri": "https://localhost:8080/"
        },
        "id": "g2gPanq8gsDw",
        "outputId": "30ada174-5eb8-41ce-9497-a93bd0f2d6fb"
      },
      "outputs": [
        {
          "output_type": "stream",
          "name": "stdout",
          "text": [
            "[[7. 7. 7. 7. 7. 7. 7. 7. 7.]\n",
            " [0. 0. 0. 0. 0. 0. 0. 7. 0.]\n",
            " [7. 7. 7. 7. 7. 0. 7. 0. 0.]\n",
            " [0. 0. 0. 7. 0. 7. 0. 0. 0.]\n",
            " [0. 0. 7. 0. 7. 0. 0. 0. 0.]\n",
            " [0. 7. 0. 7. 0. 0. 0. 0. 0.]\n",
            " [7. 0. 7. 0. 0. 0. 0. 0. 0.]]\n"
          ]
        }
      ],
      "source": [
        "import numpy as np\n",
        "OR = np.zeros((7,9))\n",
        "#เหลี่ยมนอก\n",
        "OR[0:1] = 7\n",
        "OR[1,7:8] = 7\n",
        "OR[2,6:7] = 7\n",
        "OR[3,5:6] = 7\n",
        "OR[4,4:5] = 7\n",
        "OR[5,3:4] = 7\n",
        "OR[6,2:3] = 7\n",
        "#เหลี่ยมใน\n",
        "OR[2,0:5] = 7\n",
        "OR[3,3:4] = 7\n",
        "OR[4,2:3] = 7\n",
        "OR[5,1:2] = 7\n",
        "OR[6,0:1] = 7\n",
        "print(OR)\n"
      ]
    },
    {
      "cell_type": "markdown",
      "source": [
        "#HW 2.5\n",
        "สร้าง Function เพื่อ print logo พรรคก้าวไกล โดย input พื้นหลังได้"
      ],
      "metadata": {
        "id": "h3rbxq5PG2NB"
      }
    },
    {
      "cell_type": "code",
      "source": [
        "import numpy as np\n",
        "\n",
        "OR = np.ones((7, 9), dtype=str)\n",
        "#เหลี่ยมนอก\n",
        "OR[0:1] = 7\n",
        "OR[1,7:8] = 7\n",
        "OR[2,6:7] = 7\n",
        "OR[3,5:6] = 7\n",
        "OR[4,4:5] = 7\n",
        "OR[5,3:4] = 7\n",
        "OR[6,2:3] = 7\n",
        "#เหลี่ยมใน\n",
        "OR[2,0:5] = 7\n",
        "OR[3,3:4] = 7\n",
        "OR[4,2:3] = 7\n",
        "OR[5,1:2] = 7\n",
        "OR[6,0:1] = 7\n",
        "OR[OR == \"1\"] = \"Q\"\n",
        "print(OR)\n"
      ],
      "metadata": {
        "colab": {
          "base_uri": "https://localhost:8080/"
        },
        "id": "uY9mm-spL2P1",
        "outputId": "0d633adb-2273-469d-abfb-069ae2c30f3b"
      },
      "execution_count": 38,
      "outputs": [
        {
          "output_type": "stream",
          "name": "stdout",
          "text": [
            "[['7' '7' '7' '7' '7' '7' '7' '7' '7']\n",
            " ['Q' 'Q' 'Q' 'Q' 'Q' 'Q' 'Q' '7' 'Q']\n",
            " ['7' '7' '7' '7' '7' 'Q' '7' 'Q' 'Q']\n",
            " ['Q' 'Q' 'Q' '7' 'Q' '7' 'Q' 'Q' 'Q']\n",
            " ['Q' 'Q' '7' 'Q' '7' 'Q' 'Q' 'Q' 'Q']\n",
            " ['Q' '7' 'Q' '7' 'Q' 'Q' 'Q' 'Q' 'Q']\n",
            " ['7' 'Q' '7' 'Q' 'Q' 'Q' 'Q' 'Q' 'Q']]\n"
          ]
        }
      ]
    }
  ]
}