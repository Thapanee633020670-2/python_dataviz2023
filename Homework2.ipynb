{
  "nbformat": 4,
  "nbformat_minor": 0,
  "metadata": {
    "colab": {
      "provenance": [],
      "authorship_tag": "ABX9TyP9rqbtKRnKT2D+yGGS+Lfd",
      "include_colab_link": true
    },
    "kernelspec": {
      "name": "python3",
      "display_name": "Python 3"
    },
    "language_info": {
      "name": "python"
    }
  },
  "cells": [
    {
      "cell_type": "markdown",
      "metadata": {
        "id": "view-in-github",
        "colab_type": "text"
      },
      "source": [
        "<a href=\"https://colab.research.google.com/github/Thapanee633020670-2/python_dataviz2023/blob/main/Homework2.ipynb\" target=\"_parent\"><img src=\"https://colab.research.google.com/assets/colab-badge.svg\" alt=\"Open In Colab\"/></a>"
      ]
    },
    {
      "cell_type": "markdown",
      "source": [
        "#HW2 สร้างโลโก้พรรคก้าวไกล"
      ],
      "metadata": {
        "id": "3OwdhSggg9c6"
      }
    },
    {
      "cell_type": "markdown",
      "source": [],
      "metadata": {
        "id": "R6tYEtBsg8X-"
      }
    },
    {
      "cell_type": "code",
      "execution_count": 13,
      "metadata": {
        "colab": {
          "base_uri": "https://localhost:8080/"
        },
        "id": "g2gPanq8gsDw",
        "outputId": "b1803389-8231-415c-bbc7-fda24c82abc3"
      },
      "outputs": [
        {
          "output_type": "stream",
          "name": "stdout",
          "text": [
            "[[7. 7. 7. 7. 7. 7. 7. 7. 7.]\n",
            " [0. 0. 0. 0. 0. 0. 0. 7. 0.]\n",
            " [7. 7. 7. 7. 7. 0. 7. 0. 0.]\n",
            " [0. 0. 0. 7. 0. 7. 0. 0. 0.]\n",
            " [0. 0. 7. 0. 7. 0. 0. 0. 0.]\n",
            " [0. 7. 0. 7. 0. 0. 0. 0. 0.]\n",
            " [7. 0. 7. 0. 0. 0. 0. 0. 0.]]\n"
          ]
        }
      ],
      "source": [
        "import numpy as np\n",
        "OR = np.zeros((7,9))\n",
        "#เหลี่ยมนอก\n",
        "OR[0:1] = 7\n",
        "OR[1,7:8] = 7\n",
        "OR[2,6:7] = 7\n",
        "OR[3,5:6] = 7\n",
        "OR[4,4:5] = 7\n",
        "OR[5,3:4] = 7\n",
        "OR[6,2:3] = 7\n",
        "#เหลี่ยมใน\n",
        "OR[2,0:5] = 7\n",
        "OR[3,3:4] = 7\n",
        "OR[4,2:3] = 7\n",
        "OR[5,1:2] = 7\n",
        "OR[6,0:1] = 7\n",
        "print(OR)\n"
      ]
    },
    {
      "cell_type": "markdown",
      "source": [
        "#HW 2.5\n",
        "สร้าง Function เพื่อ print logo พรรคก้าวไกล โดย input พื้นหลังได้"
      ],
      "metadata": {
        "id": "h3rbxq5PG2NB"
      }
    },
    {
      "cell_type": "code",
      "source": [
        "import numpy as np\n",
        "\n",
        "def print_logo(a):\n",
        "    OR = np.full((7, 9), 'q')\n",
        "\n",
        "    # เหลี่ยมนอก\n",
        "    OR[0:1] = a\n",
        "    OR[1, 7:8] = a\n",
        "    OR[2, 6:7] = a\n",
        "    OR[3, 5:6] = a\n",
        "    OR[4, 4:5] = a\n",
        "    OR[5, 3:4] = a\n",
        "    OR[6, 2:3] = a\n",
        "\n",
        "    # เหลี่ยมใน\n",
        "    OR[2, 0:5] = a\n",
        "    OR[3, 3:4] = a\n",
        "    OR[4, 2:3] = a\n",
        "    OR[5, 1:2] = a\n",
        "    OR[6, 0:1] = a\n",
        "\n",
        "    return OR\n",
        "\n",
        "logo = print_logo('t')\n",
        "print(logo)\n"
      ],
      "metadata": {
        "colab": {
          "base_uri": "https://localhost:8080/"
        },
        "id": "uY9mm-spL2P1",
        "outputId": "3ae3d433-b7ba-4dd6-f38a-d4fa008d61e9"
      },
      "execution_count": 34,
      "outputs": [
        {
          "output_type": "stream",
          "name": "stdout",
          "text": [
            "[['t' 't' 't' 't' 't' 't' 't' 't' 't']\n",
            " ['q' 'q' 'q' 'q' 'q' 'q' 'q' 't' 'q']\n",
            " ['t' 't' 't' 't' 't' 'q' 't' 'q' 'q']\n",
            " ['q' 'q' 'q' 't' 'q' 't' 'q' 'q' 'q']\n",
            " ['q' 'q' 't' 'q' 't' 'q' 'q' 'q' 'q']\n",
            " ['q' 't' 'q' 't' 'q' 'q' 'q' 'q' 'q']\n",
            " ['t' 'q' 't' 'q' 'q' 'q' 'q' 'q' 'q']]\n"
          ]
        }
      ]
    }
  ]
}